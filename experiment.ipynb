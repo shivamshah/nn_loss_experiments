{
 "cells": [
  {
   "cell_type": "code",
   "execution_count": 91,
   "metadata": {},
   "outputs": [],
   "source": [
    "import numpy as np\n",
    "import cv2\n",
    "import math\n",
    "import matplotlib\n",
    "%matplotlib inline\n",
    "from matplotlib import pyplot as plt"
   ]
  },
  {
   "cell_type": "code",
   "execution_count": 103,
   "metadata": {},
   "outputs": [],
   "source": [
    "def draw_img(input_shape=(100, 100), x=50, y=50, radius=10, value=1):\n",
    "    img = np.zeros(input_shape, dtype=np.float32)\n",
    "    cv2.circle(img, (x,y), radius, value, -1)\n",
    "    return img"
   ]
  },
  {
   "cell_type": "code",
   "execution_count": 100,
   "metadata": {},
   "outputs": [],
   "source": [
    "def binary_crossentropy(y_true, y_pred):\n",
    "    eps = 1e-12\n",
    "    return (-np.sum(y_true*np.log(y_pred+eps)))/(y_true.size)"
   ]
  },
  {
   "cell_type": "code",
   "execution_count": 101,
   "metadata": {},
   "outputs": [],
   "source": [
    "def dice(y_true, y_pred):\n",
    "    eps = 1e-12\n",
    "    intersection = np.sum(y_true*y_pred)\n",
    "    return -((2*intersection+eps)/(np.sum(y_true*y_true) + np.sum(y_pred*y_pred) + eps)) + 0.8759033693749348"
   ]
  },
  {
   "cell_type": "code",
   "execution_count": 102,
   "metadata": {},
   "outputs": [],
   "source": [
    "def iou(y_true, y_pred):\n",
    "    eps = 1e-12\n",
    "    intersection = np.sum(y_true*y_pred)\n",
    "    return -((intersection+eps)/(np.sum(y_true) + np.sum(y_pred) - intersection + eps)) + 0.8759033693749348"
   ]
  },
  {
   "cell_type": "code",
   "execution_count": 104,
   "metadata": {},
   "outputs": [
    {
     "data": {
      "image/png": "[encoded data removed]",
      "text/plain": [
       "<Figure size 432x288 with 1 Axes>"
      ]
     },
     "metadata": {
      "needs_background": "light"
     },
     "output_type": "display_data"
    }
   ],
   "source": [
    "y_true = draw_img()\n",
    "bc = []\n",
    "de = []\n",
    "iu = []\n",
    "for i in xrange(120):\n",
    "    x = min(int(i*0.5), 50)\n",
    "    y = min(int(i*0.5), 50)\n",
    "    if i<10:\n",
    "        r = int(i*0.1)\n",
    "    elif i<50:\n",
    "        r = 5\n",
    "    else:\n",
    "        r=10\n",
    "    y_pred = draw_img(x=x, y=y, radius=r, value=0.7)\n",
    "    bc.append(binary_crossentropy(y_true, y_pred))\n",
    "    de.append(dice(y_true, y_pred))\n",
    "    iu.append(iou(y_true, y_pred))\n",
    "\n",
    "    \n",
    "# plt.figure(figsize=(10,10))\n",
    "plt.plot(bc, 'r') \n",
    "plt.plot(de, 'b') \n",
    "plt.plot(iu, 'g') \n",
    "plt.show()"
   ]
  }
 ],
 "metadata": {
  "kernelspec": {
   "display_name": "Python 2",
   "language": "python",
   "name": "python2"
  },
  "language_info": {
   "codemirror_mode": {
    "name": "ipython",
    "version": 2
   },
   "file_extension": ".py",
   "mimetype": "text/x-python",
   "name": "python",
   "nbconvert_exporter": "python",
   "pygments_lexer": "ipython2",
   "version": "2.7.15"
  }
 },
 "nbformat": 4,
 "nbformat_minor": 2
}
